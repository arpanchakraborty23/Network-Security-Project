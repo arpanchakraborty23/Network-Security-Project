{
 "cells": [
  {
   "cell_type": "code",
   "execution_count": 1,
   "metadata": {},
   "outputs": [],
   "source": [
    "import os"
   ]
  },
  {
   "cell_type": "code",
   "execution_count": 2,
   "metadata": {},
   "outputs": [],
   "source": [
    "os.chdir('../')"
   ]
  },
  {
   "cell_type": "markdown",
   "metadata": {},
   "source": [
    "## Traning Pipline Config"
   ]
  },
  {
   "cell_type": "code",
   "execution_count": null,
   "metadata": {},
   "outputs": [],
   "source": [
    "import numpy as np\n",
    "import pandas as pd"
   ]
  },
  {
   "cell_type": "code",
   "execution_count": 15,
   "metadata": {},
   "outputs": [],
   "source": [
    "from networksecurity.constant import traning_pipline\n"
   ]
  },
  {
   "cell_type": "markdown",
   "metadata": {},
   "source": [
    "## Config Entity"
   ]
  },
  {
   "cell_type": "code",
   "execution_count": 28,
   "metadata": {},
   "outputs": [],
   "source": [
    "from datetime import datetime\n",
    "\n",
    "class TraningPiplineConfig:\n",
    "    def __init__(self) -> None:\n",
    "      self.pipline_name=traning_pipline.PIPELINE_NAME   \n",
    "      self.artifact_name=traning_pipline.ARTIFACT_DIR\n",
    "      self.artifact_dir=os.path.join(self.artifact_name)\n",
    "      \n",
    "class DataIngestionConfig:\n",
    "      def __init__(self,traning_pipline_config:TraningPiplineConfig) -> None:\n",
    "         self.data_ingestion_dir:str=os.path.join(\n",
    "            traning_pipline_config.artifact_dir, traning_pipline.DATA_INGESTION_DIR_NAME ## creating data ingestion dir inside artifacts\n",
    "\t\t\t)\n",
    "         self.feature_store_file_path:str=os.path.join(\n",
    "            traning_pipline_config.artifact_dir, traning_pipline.DATA_INGESTION_FEATURE_STORE_DIR ,traning_pipline.FILE_NAME ## saving raw data in artifact with file name\n",
    "\t\t\t)\n",
    "         self.traning_data_store_path:str=os.path.join(\n",
    "            traning_pipline_config.artifact_dir, traning_pipline.DATA_INGESTION__DIR, traning_pipline.TRAIN_FILE_NAME  ## artifacts folder , ingest folder , train data path\n",
    "\t\t\t)\n",
    "         self.test_data_store_path:str=os.path.join(\n",
    "            traning_pipline_config.artifact_dir,traning_pipline.DATA_INGESTION__DIR, traning_pipline.TEST_FILE_NAME ## artifacts folder , ingest folder , test data path\n",
    "\t\t\t)\n",
    "         self.train_test_split_ratio:float=traning_pipline.DATA_INGESTION_TRAIN_TEST_SPLIT_RATIO\n",
    "         "
   ]
  },
  {
   "cell_type": "markdown",
   "metadata": {},
   "source": [
    "## Components Output Artifacts Entity"
   ]
  },
  {
   "cell_type": "code",
   "execution_count": 3,
   "metadata": {},
   "outputs": [],
   "source": [
    "from dataclasses import dataclass\n",
    "@dataclass\n",
    "class DataIngestionArtifact:\n",
    "    trained_file_path:str\n",
    "    test_file_path:str"
   ]
  },
  {
   "cell_type": "markdown",
   "metadata": {},
   "source": [
    "## Data Ingestion Component"
   ]
  },
  {
   "cell_type": "code",
   "execution_count": 7,
   "metadata": {},
   "outputs": [],
   "source": [
    "from networksecurity.logging.logger import logging\n",
    "from networksecurity.exception.exception import CustomException\n",
    "from networksecurity.utils.utills import Data_read_from_db\n",
    "import os\n",
    "import sys\n",
    "import numpy as np\n",
    "import pandas as pd\n",
    "from typing import List\n",
    "from sklearn.model_selection import train_test_split\n",
    "from dotenv import load_dotenv\n",
    "load_dotenv()\n",
    "from networksecurity.logging.logger import logging\n",
    "from networksecurity.exception.exception import CustomException"
   ]
  },
  {
   "cell_type": "code",
   "execution_count": 12,
   "metadata": {},
   "outputs": [],
   "source": [
    "class DataIngestion:\n",
    "   def __init__(self,data_ingestion_config:DataIngestionConfig) -> None:\n",
    "      self.config = data_ingestion_config\n",
    "      self.url = os.getenv('url')\n",
    "      self.database = os.getenv('db')\n",
    "      self.collection = os.getenv('collection')\n",
    "   def export_data_to_feature_store(self,df:pd.DataFrame) -> pd.DataFrame:\n",
    "      try:\n",
    "         feature_store_dir_path:str=self.config.feature_store_file_path\n",
    "         dir_path=os.path.dirname(feature_store_dir_path)\n",
    "         os.makedirs(dir_path,exist_ok=True)\n",
    "         df.to_csv(feature_store_dir_path,index=False,header=True)\n",
    "         return df\n",
    "      except Exception as e:\n",
    "         logging.info(f'Error in export data {str(e)}')\n",
    "         raise CustomException(e,sys)\n",
    "   def split_data_into_train_test(self,df):\n",
    "      try:\n",
    "         test_data,train_data=train_test_split(\n",
    "            df,test_size=self.config.train_test_split_ratio,random_state=42\n",
    "\t\t\t)\n",
    "         logging.info('Data split into training and testing sets successfully.')\n",
    "         train_dir_path=os.path.dirname(self.config.traning_data_store_path)\n",
    "         os.makedirs(train_dir_path,exist_ok=True)\n",
    "         train_data.to_csv(self.config.traning_data_store_path)\n",
    "         test_dir_path=os.path.dirname(self.config.test_data_store_path)\n",
    "         os.makedirs(test_dir_path,exist_ok=True)\n",
    "         test_data.to_csv(self.config.test_data_store_path)\n",
    "         logging.info(f'Training and test data saved to {self.config.traning_data_store_path} and {self.config.test_data_store_path} respectively.')\n",
    "      except Exception as e:\n",
    "         raise CustomException(e,sys)\n",
    "   def initiate_data_ingestion(self):\n",
    "      try:\n",
    "         df=Data_read_from_db(url=self.url,db=self.database,collection=self.collection)\n",
    "         self.export_data_to_feature_store(df=df)\n",
    "         self.split_data_into_train_test(df=df)\n",
    "         data_ingestion_artifacts=DataIngestionArtifact(\n",
    "            trained_file_path=self.config.traning_data_store_path,test_file_path=self.config.test_data_store_path\n",
    "\t\t\t)\n",
    "         return data_ingestion_artifacts\n",
    "      except Exception as e:\n",
    "         logging.info(f'Error in Data Ingestion: {str(e)}')\n",
    "         raise CustomException(e,sys)\n",
    "      "
   ]
  },
  {
   "cell_type": "markdown",
   "metadata": {},
   "source": [
    "## Execute Pipline"
   ]
  },
  {
   "cell_type": "code",
   "execution_count": 29,
   "metadata": {},
   "outputs": [],
   "source": [
    "# from networksecurity.entity.artifact_entity import DataIngestionArtifact\n",
    "# from networksecurity.entity.config_entity import DataIngestonConfig\n",
    "# from networksecurity.logging.logger import logging\n",
    "# from networksecurity.exception.exception import CustomException\n",
    "# import sys"
   ]
  },
  {
   "cell_type": "code",
   "execution_count": 30,
   "metadata": {},
   "outputs": [
    {
     "name": "stdout",
     "output_type": "stream",
     "text": [
      "   having_IP_Address  URL_Length  Shortining_Service  having_At_Symbol  \\\n",
      "0                 -1           1                   1                 1   \n",
      "1                  1           1                   1                 1   \n",
      "2                  1           0                   1                 1   \n",
      "3                  1           0                   1                 1   \n",
      "4                  1           0                  -1                 1   \n",
      "\n",
      "   double_slash_redirecting  Prefix_Suffix  having_Sub_Domain  SSLfinal_State  \\\n",
      "0                        -1             -1                 -1              -1   \n",
      "1                         1             -1                  0               1   \n",
      "2                         1             -1                 -1              -1   \n",
      "3                         1             -1                 -1              -1   \n",
      "4                         1             -1                  1               1   \n",
      "\n",
      "   Domain_registeration_length  Favicon  ...  popUpWidnow  Iframe  \\\n",
      "0                           -1        1  ...            1       1   \n",
      "1                           -1        1  ...            1       1   \n",
      "2                           -1        1  ...            1       1   \n",
      "3                            1        1  ...            1       1   \n",
      "4                           -1        1  ...           -1       1   \n",
      "\n",
      "   age_of_domain  DNSRecord  web_traffic  Page_Rank  Google_Index  \\\n",
      "0             -1         -1           -1         -1             1   \n",
      "1             -1         -1            0         -1             1   \n",
      "2              1         -1            1         -1             1   \n",
      "3             -1         -1            1         -1             1   \n",
      "4             -1         -1            0         -1             1   \n",
      "\n",
      "   Links_pointing_to_page  Statistical_report  Result  \n",
      "0                       1                  -1      -1  \n",
      "1                       1                   1      -1  \n",
      "2                       0                  -1      -1  \n",
      "3                      -1                   1      -1  \n",
      "4                       1                   1       1  \n",
      "\n",
      "[5 rows x 31 columns]\n"
     ]
    }
   ],
   "source": [
    "try:\n",
    "   traning_pipline_config=TraningPiplineConfig()\n",
    "   data_ingestion_config=DataIngestionConfig(traning_pipline_config=traning_pipline_config)\n",
    "   data_ingestion=DataIngestion(data_ingestion_config=data_ingestion_config)\n",
    "   data_ingestion.initiate_data_ingestion()\n",
    "except Exception as e:\n",
    "           raise CustomException(e,sys)"
   ]
  },
  {
   "cell_type": "code",
   "execution_count": null,
   "metadata": {},
   "outputs": [],
   "source": []
  }
 ],
 "metadata": {
  "kernelspec": {
   "display_name": "Python 3",
   "language": "python",
   "name": "python3"
  },
  "language_info": {
   "codemirror_mode": {
    "name": "ipython",
    "version": 3
   },
   "file_extension": ".py",
   "mimetype": "text/x-python",
   "name": "python",
   "nbconvert_exporter": "python",
   "pygments_lexer": "ipython3",
   "version": "3.11.0"
  }
 },
 "nbformat": 4,
 "nbformat_minor": 2
}
